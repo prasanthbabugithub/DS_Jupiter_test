{
 "cells": [
  {
   "cell_type": "markdown",
   "id": "c4f7890b-232a-443d-b77a-11a9b67d8698",
   "metadata": {},
   "source": [
    "# Data Science Tools and Ecosystem"
   ]
  },
  {
   "cell_type": "markdown",
   "id": "2994f005-4703-4691-9faa-21912ac6da3e",
   "metadata": {},
   "source": [
    "#### In this notebook, Data Science Tools and Ecosystem are summarized."
   ]
  },
  {
   "cell_type": "markdown",
   "id": "44ba31e3-8a59-44ed-8978-6c510af5ac75",
   "metadata": {},
   "source": [
    "**Objectives:**\n",
    "* List of popular Data Science Languages\n",
    "* List of popular Data Science Libraries\n",
    "* List of common Data Science Tools"
   ]
  },
  {
   "cell_type": "markdown",
   "id": "a21ed821-4535-44fb-9aac-a95ae703bde6",
   "metadata": {},
   "source": [
    "##### Some of the popular languages that Data Scientists use are:"
   ]
  },
  {
   "cell_type": "markdown",
   "id": "e5530679-2050-4a0e-aff6-aa11460840d9",
   "metadata": {},
   "source": [
    "1) Python\n",
    "2) R\n",
    "3) Scala\n",
    "4) Julia"
   ]
  },
  {
   "cell_type": "markdown",
   "id": "064bf944-a302-46e5-b26c-2d740fee8fe8",
   "metadata": {},
   "source": [
    "##### Some of the commonly used libraries used by Data Scientists include:\n",
    "\n",
    "1. Numpy\n",
    "2. Scipy\n",
    "3. TensorFlow"
   ]
  },
  {
   "cell_type": "markdown",
   "id": "2b3b3b92-6a75-447d-829b-b51a3a157168",
   "metadata": {
    "tags": []
   },
   "source": [
    "| Data Science Tools |\n",
    "|--------------------|\n",
    "|Apache Spark|\n",
    "|Tableau|\n",
    "|Matplotlib|"
   ]
  },
  {
   "cell_type": "markdown",
   "id": "e5abc48f-b457-46f6-9e87-1f9652bd138f",
   "metadata": {},
   "source": [
    "### Below are a few examples of evaluating arithmetic expressions in Python"
   ]
  },
  {
   "cell_type": "code",
   "execution_count": 3,
   "id": "656752d8-af6c-4a40-849f-2cd4f9eadc80",
   "metadata": {
    "tags": []
   },
   "outputs": [
    {
     "data": {
      "text/plain": [
       "17"
      ]
     },
     "execution_count": 3,
     "metadata": {},
     "output_type": "execute_result"
    }
   ],
   "source": [
    "# This a simple arithmetic expression to mutiply then add integers.\n",
    "(3*4)+5"
   ]
  },
  {
   "cell_type": "code",
   "execution_count": 7,
   "id": "fb749549-1aec-488f-a4bd-4fcabd1fe118",
   "metadata": {
    "tags": []
   },
   "outputs": [
    {
     "name": "stdout",
     "output_type": "stream",
     "text": [
      "3.3333333333333335\n"
     ]
    }
   ],
   "source": [
    "# This will convert 200 minutes to hours by diving by 60\n",
    "minutes = 200\n",
    "convert_to_hours = 200/60\n",
    "print(convert_to_hours)"
   ]
  },
  {
   "cell_type": "markdown",
   "id": "92bc3797-acc5-4a07-83a6-bb11f33aaf91",
   "metadata": {},
   "source": [
    "## Author\n",
    "Prasanth Babu"
   ]
  },
  {
   "cell_type": "code",
   "execution_count": null,
   "id": "3ad758f1-a91a-4e4a-9d29-9e051821d8b6",
   "metadata": {},
   "outputs": [],
   "source": []
  }
 ],
 "metadata": {
  "kernelspec": {
   "display_name": "Python",
   "language": "python",
   "name": "conda-env-python-py"
  },
  "language_info": {
   "codemirror_mode": {
    "name": "ipython",
    "version": 3
   },
   "file_extension": ".py",
   "mimetype": "text/x-python",
   "name": "python",
   "nbconvert_exporter": "python",
   "pygments_lexer": "ipython3",
   "version": "3.7.12"
  }
 },
 "nbformat": 4,
 "nbformat_minor": 5
}
